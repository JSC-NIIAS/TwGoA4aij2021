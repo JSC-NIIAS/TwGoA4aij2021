{
 "cells": [
  {
   "cell_type": "code",
   "execution_count": 3,
   "metadata": {},
   "outputs": [],
   "source": [
    "import torch\n",
    "import torch.nn as nn\n",
    "import os\n",
    "from PIL import Image\n",
    "import PIL\n",
    "import ttach as tta\n",
    "import yaml\n",
    "import albumentations as A\n",
    "import numpy as np\n",
    "import json\n",
    "from albumentations.pytorch import ToTensorV2\n",
    "device=torch.device(\"cuda:0\")\n",
    "config_path=\"predict_config.yaml\"\n",
    "with open(config_path) as f:\n",
    "     predict_hyps = yaml.load(f, Loader=yaml.FullLoader)\n",
    "path_to_images=predict_hyps[\"path_to_images\"]\n",
    "detection_hyps={0:{\"class\":\"Human\",\"conf_tr\":0.57},1:{\"class\":\"Car\",\"conf_tr\":0.63},2:{\"class\":\"Wagon\",\"conf_tr\":0.42},3:{\"class\":\"Signal\",\"conf_tr\":0.44},4:{\"class\":\"FacingSwitch\",\"conf_tr\":0.7},0:{\"class\":\"TrailingSwitch\",\"conf_tr\":0.55}}\n",
    "segmentation_model = torch.load(predict_hyps[\"segmentation\"]).eval().half().to(device)\n",
    "transform_seg = A.Compose([\n",
    "            A.Resize(height=1536,width=2688),\n",
    "            A.Normalize([predict_hyps['mean0'], predict_hyps['mean1'], predict_hyps['mean2']], [predict_hyps['std0'],predict_hyps['std1'], predict_hyps['std2']]),\n",
    "            ToTensorV2()])\n",
    "transforms_tta_seg = tta.Compose(\n",
    "    [\n",
    "        tta.Resize(sizes=[(640, 1280),(960,1920),(1536,2688)], original_size=(1536, 2688), interpolation=\"nearest\")  \n",
    "    ]\n",
    ")"
   ]
  },
  {
   "cell_type": "code",
   "execution_count": null,
   "metadata": {},
   "outputs": [],
   "source": [
    "for image_file in os.listdir(predict_hyps[\"path_to_images\"]):\n",
    "    img = Image.open(os.path.join(predict_hyps[\"path_to_images\"],image_file)).convert(\"RGB\")\n",
    "    orig_size=img.size\n",
    "    sample = {\"image\": img}\n",
    "    sample['image'] = np.array(sample['image'])[:, :, ::-1]\n",
    "    sample = transform_seg(**sample)\n",
    "    image= sample[\"image\"].unsqueeze(0)\n",
    "    final_mask=torch.zeros((1,4,1536,2688)).to(device)\n",
    "    for transformer in transforms_tta_seg:\n",
    "        with torch.no_grad():\n",
    "            augmented_image = transformer.augment_image(image).to(device)\n",
    "            model_output = segmentation_model(augmented_image.half())\n",
    "            deaug_mask = transformer.deaugment_mask(model_output.float())\n",
    "            final_mask += deaug_mask\n",
    "    result_mask = torch.argmax(torch.softmax(final_mask/3,dim=1),dim=1).squeeze(0).detach().cpu().numpy()\n",
    "    result_mask=np.stack([result_mask,result_mask,result_mask])\n",
    "    result_mask[result_mask==1]=6\n",
    "    result_mask[result_mask==2]=7\n",
    "    result_mask[result_mask==3]=10\n",
    "    Image.fromarray(np.transpose(result_mask, (1, 2, 0)).astype(np.uint8)).resize(orig_size,PIL.Image.NEAREST).save(os.path.join(predict_hyps[\"mask_save_path\"],image_file))\n",
    "del segmentation_model"
   ]
  },
  {
   "cell_type": "code",
   "execution_count": null,
   "metadata": {},
   "outputs": [],
   "source": [
    "!python3 ../detection/yolov5/detect.py --weights ../models_checkpoints/detection_inference.pt --source $path_to_images --conf_thres 0.4 --augment  --project=./detector_predictions"
   ]
  },
  {
   "cell_type": "code",
   "execution_count": null,
   "metadata": {},
   "outputs": [],
   "source": [
    "classification_signal = torch.load(predict_hyps[\"signal\"]).eval().half().to(device)\n",
    "classification_t_switch = torch.load(predict_hyps[\"tswitch\"]).eval().half().to(device)\n",
    "classification_f_switch = torch.load(predict_hyps[\"fswitch\"]).eval().half().to(device)\n",
    "for image_file in os.listdir(predict_hyps[\"path_to_images\"]):\n",
    "    bb_dict={}\n",
    "    bb_dict[\"\"]\n",
    "    with open(os.path.join(predict_hyps[\"jsons_save_path\"],image_file),\"w\") as bb_predictions_json:\n",
    "        with open(os.path.join(\"./detector_predictions/predictions/labels\",image_file.strip(\".png\")+\".txt\"),\"r\") as yolo_pred:\n",
    "            "
   ]
  }
 ],
 "metadata": {
  "kernelspec": {
   "display_name": "Python 3",
   "language": "python",
   "name": "python3"
  },
  "language_info": {
   "codemirror_mode": {
    "name": "ipython",
    "version": 3
   },
   "file_extension": ".py",
   "mimetype": "text/x-python",
   "name": "python",
   "nbconvert_exporter": "python",
   "pygments_lexer": "ipython3",
   "version": "3.6.9"
  }
 },
 "nbformat": 4,
 "nbformat_minor": 2
}
